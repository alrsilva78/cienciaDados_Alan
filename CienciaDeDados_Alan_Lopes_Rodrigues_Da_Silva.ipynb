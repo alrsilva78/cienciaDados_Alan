{
 "cells": [
  {
   "cell_type": "markdown",
   "id": "88c4df60",
   "metadata": {},
   "source": [
    "# Jupyter_notebook_Alan_Lopes_Rodrigues_da_Silva\n",
    "A ativida tem sido muito proveitosa para o meu dia a dia, e será um grande impulsionador em minha carreira profissional. Material didático excelente e conteúdo de grande abrangencia."
   ]
  },
  {
   "cell_type": "code",
   "execution_count": 11,
   "id": "ef973963",
   "metadata": {},
   "outputs": [],
   "source": [
    "import pandas as pd"
   ]
  },
  {
   "cell_type": "code",
   "execution_count": 31,
   "id": "529a1a2f",
   "metadata": {},
   "outputs": [],
   "source": [
    "df = pd.read_excel('C:/Users/infor/Downloads/Data/default_of_credit_card_clients__courseware_version_1_21_19.xls')\n"
   ]
  },
  {
   "cell_type": "markdown",
   "id": "799c45fa",
   "metadata": {},
   "source": [
    "# 1. Saber quantas colunas os dados contêm"
   ]
  },
  {
   "cell_type": "code",
   "execution_count": 33,
   "id": "ce85553f",
   "metadata": {},
   "outputs": [
    {
     "name": "stdout",
     "output_type": "stream",
     "text": [
      "O DataFrame contém 25 colunas.\n"
     ]
    }
   ],
   "source": [
    "num_colunas = len(df.columns)\n",
    "print(f'O DataFrame contém {num_colunas} colunas.')"
   ]
  },
  {
   "cell_type": "code",
   "execution_count": 36,
   "id": "76672ea6",
   "metadata": {
    "scrolled": true
   },
   "outputs": [
    {
     "name": "stdout",
     "output_type": "stream",
     "text": [
      "Index(['ID', 'LIMIT_BAL', 'SEX', 'EDUCATION', 'MARRIAGE', 'AGE', 'PAY_1',\n",
      "       'PAY_2', 'PAY_3', 'PAY_4', 'PAY_5', 'PAY_6', 'BILL_AMT1', 'BILL_AMT2',\n",
      "       'BILL_AMT3', 'BILL_AMT4', 'BILL_AMT5', 'BILL_AMT6', 'PAY_AMT1',\n",
      "       'PAY_AMT2', 'PAY_AMT3', 'PAY_AMT4', 'PAY_AMT5', 'PAY_AMT6',\n",
      "       'default payment next month'],\n",
      "      dtype='object')\n"
     ]
    }
   ],
   "source": [
    "print(df.columns)"
   ]
  },
  {
   "cell_type": "markdown",
   "id": "9e79d14c",
   "metadata": {},
   "source": [
    "# 2. Quantas linhas (amostras)"
   ]
  },
  {
   "cell_type": "code",
   "execution_count": 37,
   "id": "b66d3d2c",
   "metadata": {},
   "outputs": [
    {
     "name": "stdout",
     "output_type": "stream",
     "text": [
      "O DataFrame contém 30000 linhas.\n"
     ]
    }
   ],
   "source": [
    "num_linhas = len(df)\n",
    "print(f'O DataFrame contém {num_linhas} linhas.')"
   ]
  },
  {
   "cell_type": "markdown",
   "id": "750ecac6",
   "metadata": {},
   "source": [
    "# 3. Que tipos de características existem. Quais são categóricas e quais são numéricas? "
   ]
  },
  {
   "cell_type": "code",
   "execution_count": 38,
   "id": "33e90555",
   "metadata": {},
   "outputs": [
    {
     "name": "stdout",
     "output_type": "stream",
     "text": [
      "ID                            object\n",
      "LIMIT_BAL                      int64\n",
      "SEX                            int64\n",
      "EDUCATION                      int64\n",
      "MARRIAGE                       int64\n",
      "AGE                            int64\n",
      "PAY_1                         object\n",
      "PAY_2                          int64\n",
      "PAY_3                          int64\n",
      "PAY_4                          int64\n",
      "PAY_5                          int64\n",
      "PAY_6                          int64\n",
      "BILL_AMT1                      int64\n",
      "BILL_AMT2                      int64\n",
      "BILL_AMT3                      int64\n",
      "BILL_AMT4                      int64\n",
      "BILL_AMT5                      int64\n",
      "BILL_AMT6                      int64\n",
      "PAY_AMT1                       int64\n",
      "PAY_AMT2                       int64\n",
      "PAY_AMT3                       int64\n",
      "PAY_AMT4                       int64\n",
      "PAY_AMT5                       int64\n",
      "PAY_AMT6                       int64\n",
      "default payment next month     int64\n",
      "dtype: object\n"
     ]
    }
   ],
   "source": [
    "print(df.dtypes)"
   ]
  },
  {
   "cell_type": "markdown",
   "id": "858dd540",
   "metadata": {},
   "source": [
    "Temos a carcteristica Object como categóricas e int64 como numéricas."
   ]
  },
  {
   "cell_type": "markdown",
   "id": "6b5084d1",
   "metadata": {},
   "source": [
    "# 4. Qual é a aparência dos dados segundo essas características."
   ]
  },
  {
   "cell_type": "markdown",
   "id": "20120443",
   "metadata": {},
   "source": [
    "Aparência da característica Numérica"
   ]
  },
  {
   "cell_type": "code",
   "execution_count": 45,
   "id": "4006668a",
   "metadata": {
    "scrolled": false
   },
   "outputs": [
    {
     "name": "stdout",
     "output_type": "stream",
     "text": [
      "default payment next month\n",
      "Não    78.126667\n",
      "Sim    21.873333\n",
      "Name: proportion, dtype: float64\n"
     ]
    },
    {
     "data": {
      "image/png": "[encoded data removed]",
      "text/plain": [
       "<Figure size 640x480 with 1 Axes>"
      ]
     },
     "metadata": {},
     "output_type": "display_data"
    }
   ],
   "source": [
    "inadimplentes = df['default payment next month'].value_counts(normalize=True) * 100\n",
    "print(inadimplentes)\n",
    "\n",
    "inadimplentes.plot(kind='bar', color='lightcoral', alpha=0.7)\n",
    "plt.title('Proporção de Inadimplentes no Conjunto de Dados')\n",
    "plt.xlabel('Inadimplente')\n",
    "plt.ylabel('Porcentagem (%)')\n",
    "plt.xticks(rotation=0)\n",
    "plt.show()\n"
   ]
  },
  {
   "cell_type": "code",
   "execution_count": null,
   "id": "3bd54fa0",
   "metadata": {},
   "outputs": [],
   "source": [
    "Aparência da característica "
   ]
  },
  {
   "cell_type": "code",
   "execution_count": 49,
   "id": "bca72991",
   "metadata": {
    "scrolled": false
   },
   "outputs": [
    {
     "name": "stdout",
     "output_type": "stream",
     "text": [
      "default payment next month        Não        Sim\n",
      "SEX                                             \n",
      "Feminino                    79.246231  20.753769\n",
      "Masculino                   75.838641  24.161359\n"
     ]
    },
    {
     "data": {
      "image/png": "[encoded data removed]",
      "text/plain": [
       "<Figure size 640x480 with 1 Axes>"
      ]
     },
     "metadata": {},
     "output_type": "display_data"
    }
   ],
   "source": [
    "sex_map = {1: 'Masculino', 2: 'Feminino'}\n",
    "df['SEX'] = df['SEX'].map(sex_map)\n",
    "\n",
    "sex_inadimplencia = df.groupby('SEX')['default payment next month'].value_counts(normalize=True).unstack() * 100\n",
    "\n",
    "print(sex_inadimplencia)\n",
    "\n",
    "sex_inadimplencia['Sim'].plot(kind='bar', color='lightcoral', alpha=0.7)\n",
    "plt.title('Proporção de Inadimplentes por Sexo')\n",
    "plt.xlabel('Sexo')\n",
    "plt.ylabel('Porcentagem de Inadimplentes (%)')\n",
    "plt.xticks(rotation=0)\n",
    "plt.show()\n"
   ]
  },
  {
   "cell_type": "markdown",
   "id": "43d85f92",
   "metadata": {},
   "source": [
    "# 5. Existem dados faltando?"
   ]
  },
  {
   "cell_type": "code",
   "execution_count": 50,
   "id": "2c9bd03e",
   "metadata": {},
   "outputs": [
    {
     "name": "stdout",
     "output_type": "stream",
     "text": [
      "Dados faltantes por coluna:\n",
      "ID                                0\n",
      "LIMIT_BAL                         0\n",
      "SEX                             315\n",
      "EDUCATION                         0\n",
      "MARRIAGE                          0\n",
      "AGE                               0\n",
      "PAY_1                         30000\n",
      "PAY_2                         30000\n",
      "PAY_3                         30000\n",
      "PAY_4                         30000\n",
      "PAY_5                         30000\n",
      "PAY_6                         30000\n",
      "BILL_AMT1                         0\n",
      "BILL_AMT2                         0\n",
      "BILL_AMT3                         0\n",
      "BILL_AMT4                         0\n",
      "BILL_AMT5                         0\n",
      "BILL_AMT6                         0\n",
      "PAY_AMT1                          0\n",
      "PAY_AMT2                          0\n",
      "PAY_AMT3                          0\n",
      "PAY_AMT4                          0\n",
      "PAY_AMT5                          0\n",
      "PAY_AMT6                          0\n",
      "default payment next month        0\n",
      "dtype: int64\n",
      "\n",
      "Porcentagem de dados faltantes por coluna:\n",
      "ID                              0.00\n",
      "LIMIT_BAL                       0.00\n",
      "SEX                             1.05\n",
      "EDUCATION                       0.00\n",
      "MARRIAGE                        0.00\n",
      "AGE                             0.00\n",
      "PAY_1                         100.00\n",
      "PAY_2                         100.00\n",
      "PAY_3                         100.00\n",
      "PAY_4                         100.00\n",
      "PAY_5                         100.00\n",
      "PAY_6                         100.00\n",
      "BILL_AMT1                       0.00\n",
      "BILL_AMT2                       0.00\n",
      "BILL_AMT3                       0.00\n",
      "BILL_AMT4                       0.00\n",
      "BILL_AMT5                       0.00\n",
      "BILL_AMT6                       0.00\n",
      "PAY_AMT1                        0.00\n",
      "PAY_AMT2                        0.00\n",
      "PAY_AMT3                        0.00\n",
      "PAY_AMT4                        0.00\n",
      "PAY_AMT5                        0.00\n",
      "PAY_AMT6                        0.00\n",
      "default payment next month      0.00\n",
      "dtype: float64\n"
     ]
    }
   ],
   "source": [
    "missing_data = df.isnull().sum()\n",
    "\n",
    "print(\"Dados faltantes por coluna:\")\n",
    "print(missing_data)\n",
    "\n",
    "missing_percentage = (missing_data / len(df)) * 100\n",
    "print(\"\\nPorcentagem de dados faltantes por coluna:\")\n",
    "print(missing_percentage)\n"
   ]
  }
 ],
 "metadata": {
  "kernelspec": {
   "display_name": "Python 3 (ipykernel)",
   "language": "python",
   "name": "python3"
  },
  "language_info": {
   "codemirror_mode": {
    "name": "ipython",
    "version": 3
   },
   "file_extension": ".py",
   "mimetype": "text/x-python",
   "name": "python",
   "nbconvert_exporter": "python",
   "pygments_lexer": "ipython3",
   "version": "3.11.5"
  }
 },
 "nbformat": 4,
 "nbformat_minor": 5
}
